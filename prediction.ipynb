{
 "cells": [
  {
   "cell_type": "code",
   "execution_count": 2,
   "metadata": {},
   "outputs": [],
   "source": [
    "import pandas as pd\n",
    "import tensorflow as tf\n",
    "from tensorflow.keras.datasets import imdb\n",
    "from tensorflow.keras.preprocessing import sequence\n",
    "from tensorflow.keras.models import load_model"
   ]
  },
  {
   "cell_type": "code",
   "execution_count": 3,
   "metadata": {},
   "outputs": [],
   "source": [
    "word_index=imdb.get_word_index()\n",
    "reverse_word_index = {value: key for key, value in word_index.items()}"
   ]
  },
  {
   "cell_type": "code",
   "execution_count": 4,
   "metadata": {},
   "outputs": [
    {
     "name": "stderr",
     "output_type": "stream",
     "text": [
      "WARNING:absl:Compiled the loaded model, but the compiled metrics have yet to be built. `model.compile_metrics` will be empty until you train or evaluate the model.\n"
     ]
    }
   ],
   "source": [
    "model = load_model('simple_rnn_imbd.h5')"
   ]
  },
  {
   "cell_type": "code",
   "execution_count": 5,
   "metadata": {},
   "outputs": [
    {
     "data": {
      "text/html": [
       "<pre style=\"white-space:pre;overflow-x:auto;line-height:normal;font-family:Menlo,'DejaVu Sans Mono',consolas,'Courier New',monospace\"><span style=\"font-weight: bold\">Model: \"sequential\"</span>\n",
       "</pre>\n"
      ],
      "text/plain": [
       "\u001b[1mModel: \"sequential\"\u001b[0m\n"
      ]
     },
     "metadata": {},
     "output_type": "display_data"
    },
    {
     "data": {
      "text/html": [
       "<pre style=\"white-space:pre;overflow-x:auto;line-height:normal;font-family:Menlo,'DejaVu Sans Mono',consolas,'Courier New',monospace\">┏━━━━━━━━━━━━━━━━━━━━━━━━━━━━━━━━━┳━━━━━━━━━━━━━━━━━━━━━━━━┳━━━━━━━━━━━━━━━┓\n",
       "┃<span style=\"font-weight: bold\"> Layer (type)                    </span>┃<span style=\"font-weight: bold\"> Output Shape           </span>┃<span style=\"font-weight: bold\">       Param # </span>┃\n",
       "┡━━━━━━━━━━━━━━━━━━━━━━━━━━━━━━━━━╇━━━━━━━━━━━━━━━━━━━━━━━━╇━━━━━━━━━━━━━━━┩\n",
       "│ embedding (<span style=\"color: #0087ff; text-decoration-color: #0087ff\">Embedding</span>)           │ (<span style=\"color: #00d7ff; text-decoration-color: #00d7ff\">None</span>, <span style=\"color: #00af00; text-decoration-color: #00af00\">500</span>, <span style=\"color: #00af00; text-decoration-color: #00af00\">128</span>)       │     <span style=\"color: #00af00; text-decoration-color: #00af00\">1,280,000</span> │\n",
       "├─────────────────────────────────┼────────────────────────┼───────────────┤\n",
       "│ simple_rnn (<span style=\"color: #0087ff; text-decoration-color: #0087ff\">SimpleRNN</span>)          │ (<span style=\"color: #00d7ff; text-decoration-color: #00d7ff\">None</span>, <span style=\"color: #00af00; text-decoration-color: #00af00\">128</span>)            │        <span style=\"color: #00af00; text-decoration-color: #00af00\">32,896</span> │\n",
       "├─────────────────────────────────┼────────────────────────┼───────────────┤\n",
       "│ dense (<span style=\"color: #0087ff; text-decoration-color: #0087ff\">Dense</span>)                   │ (<span style=\"color: #00d7ff; text-decoration-color: #00d7ff\">None</span>, <span style=\"color: #00af00; text-decoration-color: #00af00\">1</span>)              │           <span style=\"color: #00af00; text-decoration-color: #00af00\">129</span> │\n",
       "└─────────────────────────────────┴────────────────────────┴───────────────┘\n",
       "</pre>\n"
      ],
      "text/plain": [
       "┏━━━━━━━━━━━━━━━━━━━━━━━━━━━━━━━━━┳━━━━━━━━━━━━━━━━━━━━━━━━┳━━━━━━━━━━━━━━━┓\n",
       "┃\u001b[1m \u001b[0m\u001b[1mLayer (type)                   \u001b[0m\u001b[1m \u001b[0m┃\u001b[1m \u001b[0m\u001b[1mOutput Shape          \u001b[0m\u001b[1m \u001b[0m┃\u001b[1m \u001b[0m\u001b[1m      Param #\u001b[0m\u001b[1m \u001b[0m┃\n",
       "┡━━━━━━━━━━━━━━━━━━━━━━━━━━━━━━━━━╇━━━━━━━━━━━━━━━━━━━━━━━━╇━━━━━━━━━━━━━━━┩\n",
       "│ embedding (\u001b[38;5;33mEmbedding\u001b[0m)           │ (\u001b[38;5;45mNone\u001b[0m, \u001b[38;5;34m500\u001b[0m, \u001b[38;5;34m128\u001b[0m)       │     \u001b[38;5;34m1,280,000\u001b[0m │\n",
       "├─────────────────────────────────┼────────────────────────┼───────────────┤\n",
       "│ simple_rnn (\u001b[38;5;33mSimpleRNN\u001b[0m)          │ (\u001b[38;5;45mNone\u001b[0m, \u001b[38;5;34m128\u001b[0m)            │        \u001b[38;5;34m32,896\u001b[0m │\n",
       "├─────────────────────────────────┼────────────────────────┼───────────────┤\n",
       "│ dense (\u001b[38;5;33mDense\u001b[0m)                   │ (\u001b[38;5;45mNone\u001b[0m, \u001b[38;5;34m1\u001b[0m)              │           \u001b[38;5;34m129\u001b[0m │\n",
       "└─────────────────────────────────┴────────────────────────┴───────────────┘\n"
      ]
     },
     "metadata": {},
     "output_type": "display_data"
    },
    {
     "data": {
      "text/html": [
       "<pre style=\"white-space:pre;overflow-x:auto;line-height:normal;font-family:Menlo,'DejaVu Sans Mono',consolas,'Courier New',monospace\"><span style=\"font-weight: bold\"> Total params: </span><span style=\"color: #00af00; text-decoration-color: #00af00\">1,313,027</span> (5.01 MB)\n",
       "</pre>\n"
      ],
      "text/plain": [
       "\u001b[1m Total params: \u001b[0m\u001b[38;5;34m1,313,027\u001b[0m (5.01 MB)\n"
      ]
     },
     "metadata": {},
     "output_type": "display_data"
    },
    {
     "data": {
      "text/html": [
       "<pre style=\"white-space:pre;overflow-x:auto;line-height:normal;font-family:Menlo,'DejaVu Sans Mono',consolas,'Courier New',monospace\"><span style=\"font-weight: bold\"> Trainable params: </span><span style=\"color: #00af00; text-decoration-color: #00af00\">1,313,025</span> (5.01 MB)\n",
       "</pre>\n"
      ],
      "text/plain": [
       "\u001b[1m Trainable params: \u001b[0m\u001b[38;5;34m1,313,025\u001b[0m (5.01 MB)\n"
      ]
     },
     "metadata": {},
     "output_type": "display_data"
    },
    {
     "data": {
      "text/html": [
       "<pre style=\"white-space:pre;overflow-x:auto;line-height:normal;font-family:Menlo,'DejaVu Sans Mono',consolas,'Courier New',monospace\"><span style=\"font-weight: bold\"> Non-trainable params: </span><span style=\"color: #00af00; text-decoration-color: #00af00\">0</span> (0.00 B)\n",
       "</pre>\n"
      ],
      "text/plain": [
       "\u001b[1m Non-trainable params: \u001b[0m\u001b[38;5;34m0\u001b[0m (0.00 B)\n"
      ]
     },
     "metadata": {},
     "output_type": "display_data"
    },
    {
     "data": {
      "text/html": [
       "<pre style=\"white-space:pre;overflow-x:auto;line-height:normal;font-family:Menlo,'DejaVu Sans Mono',consolas,'Courier New',monospace\"><span style=\"font-weight: bold\"> Optimizer params: </span><span style=\"color: #00af00; text-decoration-color: #00af00\">2</span> (12.00 B)\n",
       "</pre>\n"
      ],
      "text/plain": [
       "\u001b[1m Optimizer params: \u001b[0m\u001b[38;5;34m2\u001b[0m (12.00 B)\n"
      ]
     },
     "metadata": {},
     "output_type": "display_data"
    }
   ],
   "source": [
    "model.summary()"
   ]
  },
  {
   "cell_type": "code",
   "execution_count": 6,
   "metadata": {},
   "outputs": [
    {
     "data": {
      "text/plain": [
       "[array([[ 0.43301365,  0.40068603, -0.3414508 , ...,  0.4337995 ,\n",
       "         -0.5185523 , -0.44584373],\n",
       "        [-0.03571045, -0.07514806, -0.02821761, ..., -0.05431398,\n",
       "          0.01439396,  0.05764187],\n",
       "        [-0.03364264,  0.00208186,  0.03451108, ...,  0.03825868,\n",
       "          0.00288616,  0.0376536 ],\n",
       "        ...,\n",
       "        [ 0.10434856,  0.00610969,  0.07312337, ..., -0.01852391,\n",
       "         -0.072382  , -0.01270198],\n",
       "        [-0.00906102,  0.03549366, -0.13342085, ...,  0.00760302,\n",
       "          0.02711451, -0.10719962],\n",
       "        [ 0.11718508,  0.01686501, -0.06052899, ..., -0.10597422,\n",
       "         -0.04263078,  0.01815039]], dtype=float32),\n",
       " array([[-0.0025109 ,  0.01697216,  0.03465377, ..., -0.10844393,\n",
       "         -0.06555164,  0.138775  ],\n",
       "        [-0.10328731,  0.13123016,  0.08476524, ..., -0.09568981,\n",
       "         -0.04878851, -0.05836628],\n",
       "        [ 0.16928795,  0.12140064, -0.06339907, ..., -0.13286783,\n",
       "          0.10173609, -0.05887749],\n",
       "        ...,\n",
       "        [-0.03722967, -0.01734808, -0.0694861 , ..., -0.01156994,\n",
       "          0.06708877,  0.06410936],\n",
       "        [-0.16260299,  0.03679662, -0.05347678, ...,  0.11553264,\n",
       "         -0.07936389, -0.08870313],\n",
       "        [-0.1369315 , -0.14924078, -0.01638534, ...,  0.10467096,\n",
       "         -0.1603318 ,  0.1508745 ]], dtype=float32),\n",
       " array([[ 1.01152688e-01,  2.00168379e-02,  2.11027669e-04, ...,\n",
       "          1.09409519e-01, -1.28130451e-01,  9.84768346e-02],\n",
       "        [ 3.38348672e-02, -1.07032023e-01,  4.78410657e-04, ...,\n",
       "         -2.84736734e-02,  1.92048356e-01, -1.33918589e-02],\n",
       "        [-1.26358330e-01, -9.36254188e-02,  2.21461505e-02, ...,\n",
       "          4.05098610e-02, -3.25265201e-03,  2.17980951e-01],\n",
       "        ...,\n",
       "        [-4.08335291e-02, -1.67568959e-02, -1.86746299e-01, ...,\n",
       "          1.25134051e-01,  6.73166662e-02, -5.88179491e-02],\n",
       "        [-4.03547995e-02,  1.16564065e-01, -5.30168712e-02, ...,\n",
       "         -1.01071373e-02, -8.27046763e-03, -2.03620978e-02],\n",
       "        [-2.67582983e-02, -9.78152230e-02,  6.38467493e-03, ...,\n",
       "          1.08851835e-01,  2.60126637e-03,  1.46152591e-02]], dtype=float32),\n",
       " array([ 0.02142924, -0.01754622,  0.01925579, -0.02267752, -0.02848369,\n",
       "         0.00361173, -0.00324572,  0.03023634,  0.02828259, -0.02298578,\n",
       "        -0.00743516,  0.02713717, -0.01016062,  0.02560249, -0.00288166,\n",
       "         0.02947613,  0.02131595, -0.01411748, -0.03450163,  0.01409184,\n",
       "        -0.00484671, -0.02945856, -0.0406412 , -0.00937216, -0.01856671,\n",
       "         0.01884652,  0.02273718,  0.00624538, -0.03351355, -0.00823489,\n",
       "        -0.01526506,  0.0243121 , -0.0130585 , -0.0098678 , -0.00069436,\n",
       "         0.00800414, -0.03128693, -0.02462205, -0.02721966, -0.00135571,\n",
       "         0.01406184, -0.02486885,  0.03725022, -0.02431156, -0.01775911,\n",
       "        -0.00262179, -0.01689088, -0.00609582, -0.02670253,  0.0526167 ,\n",
       "        -0.00503811, -0.02261371, -0.01782466, -0.02182432, -0.01392964,\n",
       "        -0.01136353, -0.03487682, -0.02275357, -0.02822654, -0.01944119,\n",
       "         0.01815819,  0.03330356,  0.02843265,  0.00176217, -0.01551993,\n",
       "         0.00086335,  0.0316561 ,  0.0182051 ,  0.01351071, -0.00878498,\n",
       "        -0.03658853, -0.01062238, -0.01157218,  0.033719  , -0.01740438,\n",
       "         0.0222947 ,  0.02358522, -0.03534843,  0.0073751 ,  0.01665611,\n",
       "         0.01366611, -0.01089862,  0.03621198, -0.00241001,  0.02156114,\n",
       "         0.01196466, -0.01252336,  0.02748757,  0.01070285,  0.03027263,\n",
       "        -0.00391783, -0.02766536,  0.03471019, -0.0317474 ,  0.02769809,\n",
       "         0.02025963,  0.01178946, -0.01861218,  0.0435048 ,  0.00611958,\n",
       "        -0.01563251,  0.03638975, -0.00345461, -0.00443105, -0.02532822,\n",
       "         0.02175279, -0.02028594, -0.00771035, -0.00496333,  0.03802206,\n",
       "        -0.01802198,  0.02085275,  0.01743426,  0.00233283, -0.01940348,\n",
       "         0.01383734,  0.0232072 ,  0.00250495,  0.02947481, -0.0189459 ,\n",
       "         0.0102704 ,  0.01157545, -0.03424637, -0.02997065, -0.03720187,\n",
       "         0.03207266, -0.03836872,  0.03053452], dtype=float32),\n",
       " array([[-1.81138366e-01],\n",
       "        [ 9.62646157e-02],\n",
       "        [-4.07767184e-02],\n",
       "        [ 1.91924796e-01],\n",
       "        [ 1.93769306e-01],\n",
       "        [ 1.29373848e-01],\n",
       "        [ 2.87012368e-01],\n",
       "        [-1.24331579e-01],\n",
       "        [-4.76460248e-01],\n",
       "        [ 8.38223323e-02],\n",
       "        [ 1.85607836e-01],\n",
       "        [ 9.19655412e-02],\n",
       "        [ 2.18639418e-01],\n",
       "        [ 1.57906428e-01],\n",
       "        [ 4.01544571e-02],\n",
       "        [-1.85048342e-01],\n",
       "        [-7.07297251e-02],\n",
       "        [-2.57141709e-01],\n",
       "        [ 1.88348442e-01],\n",
       "        [ 2.61114258e-03],\n",
       "        [-6.66603968e-02],\n",
       "        [ 1.16946399e-01],\n",
       "        [-3.65052894e-02],\n",
       "        [ 1.23127908e-01],\n",
       "        [-1.34659052e-01],\n",
       "        [ 2.37838700e-01],\n",
       "        [-5.75967133e-03],\n",
       "        [-9.12784338e-02],\n",
       "        [ 6.36802614e-01],\n",
       "        [-2.77187824e-01],\n",
       "        [-7.21792698e-01],\n",
       "        [-8.66552293e-02],\n",
       "        [-3.71331334e-01],\n",
       "        [ 1.04105517e-01],\n",
       "        [-3.83463889e-01],\n",
       "        [-9.45732147e-02],\n",
       "        [ 3.86067331e-01],\n",
       "        [ 1.24524981e-01],\n",
       "        [ 1.73846446e-02],\n",
       "        [-1.62060216e-01],\n",
       "        [ 8.32438692e-02],\n",
       "        [-1.50990695e-01],\n",
       "        [-1.26448929e-01],\n",
       "        [ 1.38578579e-01],\n",
       "        [ 2.66955227e-01],\n",
       "        [-7.55232275e-01],\n",
       "        [-6.45562947e-01],\n",
       "        [ 8.14515501e-02],\n",
       "        [ 1.25729531e-01],\n",
       "        [ 1.35654882e-01],\n",
       "        [ 1.41134456e-01],\n",
       "        [ 2.06180215e-01],\n",
       "        [ 1.27832070e-01],\n",
       "        [-1.33779168e-01],\n",
       "        [-1.04004592e-01],\n",
       "        [ 5.38096428e-01],\n",
       "        [ 8.58412087e-02],\n",
       "        [ 8.28090012e-02],\n",
       "        [ 1.51796386e-01],\n",
       "        [ 1.61993474e-01],\n",
       "        [ 8.97630632e-01],\n",
       "        [-1.81903914e-01],\n",
       "        [-2.01870218e-01],\n",
       "        [ 3.15137774e-01],\n",
       "        [ 1.08077765e+00],\n",
       "        [ 1.25395000e-01],\n",
       "        [-1.38316024e-02],\n",
       "        [ 8.19850385e-01],\n",
       "        [-1.89867929e-01],\n",
       "        [-3.00185382e-01],\n",
       "        [ 4.69381213e-02],\n",
       "        [ 2.29729727e-01],\n",
       "        [ 1.28275186e-01],\n",
       "        [-1.48712978e-01],\n",
       "        [-8.14468935e-02],\n",
       "        [ 1.36229947e-01],\n",
       "        [ 4.30510156e-02],\n",
       "        [ 1.31117962e-02],\n",
       "        [-6.41900748e-02],\n",
       "        [-1.88300252e-01],\n",
       "        [-8.90406035e-03],\n",
       "        [ 5.29573113e-02],\n",
       "        [-4.66329530e-02],\n",
       "        [-1.57168090e-01],\n",
       "        [ 3.24985795e-02],\n",
       "        [ 8.73472393e-01],\n",
       "        [-1.37012750e-01],\n",
       "        [ 1.42479436e-02],\n",
       "        [ 3.68235148e-02],\n",
       "        [-1.18735366e-01],\n",
       "        [-4.12698574e-02],\n",
       "        [ 1.32301450e-01],\n",
       "        [-1.25792935e-01],\n",
       "        [ 3.95926088e-02],\n",
       "        [-6.80283702e-04],\n",
       "        [ 5.41584678e-02],\n",
       "        [ 8.22478980e-02],\n",
       "        [-6.90744072e-02],\n",
       "        [-1.67873859e-01],\n",
       "        [ 2.99500898e-02],\n",
       "        [ 1.82499647e-01],\n",
       "        [ 6.50800020e-02],\n",
       "        [ 1.99917048e-01],\n",
       "        [ 2.13433430e-01],\n",
       "        [ 3.11715901e-01],\n",
       "        [-1.82575226e-01],\n",
       "        [ 6.52371705e-01],\n",
       "        [-1.71513930e-01],\n",
       "        [ 1.86948434e-01],\n",
       "        [-1.78911865e-01],\n",
       "        [ 3.23819429e-01],\n",
       "        [ 1.78235084e-01],\n",
       "        [ 3.01644281e-02],\n",
       "        [ 3.06835007e-02],\n",
       "        [ 2.13654906e-01],\n",
       "        [ 3.32745224e-01],\n",
       "        [ 1.66588828e-01],\n",
       "        [ 2.17086479e-01],\n",
       "        [-4.92198080e-01],\n",
       "        [ 7.49382079e-02],\n",
       "        [-1.26062810e-01],\n",
       "        [-1.89865679e-01],\n",
       "        [ 1.72726680e-02],\n",
       "        [ 1.44794568e-01],\n",
       "        [ 5.66285476e-03],\n",
       "        [-9.07555372e-02],\n",
       "        [-2.75852419e-02],\n",
       "        [-1.66666225e-01]], dtype=float32),\n",
       " array([0.5348565], dtype=float32)]"
      ]
     },
     "execution_count": 6,
     "metadata": {},
     "output_type": "execute_result"
    }
   ],
   "source": [
    "model.get_weights()"
   ]
  },
  {
   "cell_type": "code",
   "execution_count": 7,
   "metadata": {},
   "outputs": [],
   "source": [
    "#helper function\n",
    "#function to decode reviews\n",
    "\n",
    "def decode_review(encoded_review):\n",
    "    return ' '.join([reverse_word_index.get(i - 3, '?') for i in encoded_review])\n",
    "\n",
    "#function to preprocess user input\n",
    "def preprocess_text(text):\n",
    "    words = text.lower().split()\n",
    "    encoded_review = [word_index.get(word, 2) +3 for word in words]\n",
    "    padded_review = sequence.pad_sequences([encoded_review], maxlen=500)\n",
    "    return padded_review"
   ]
  },
  {
   "cell_type": "code",
   "execution_count": 8,
   "metadata": {},
   "outputs": [],
   "source": [
    "#prediction function\n",
    "\n",
    "def predict_sentiment(review):\n",
    "    preprocessed_input = preprocess_text(review)\n",
    "    prediction = model.predict(preprocessed_input)\n",
    "    \n",
    "    sentiment = 'Positive' if prediction[0][0] > 0.5 else 'Negative'\n",
    "    return sentiment, prediction[0][0]"
   ]
  },
  {
   "cell_type": "code",
   "execution_count": 9,
   "metadata": {},
   "outputs": [
    {
     "name": "stdout",
     "output_type": "stream",
     "text": [
      "\u001b[1m1/1\u001b[0m \u001b[32m━━━━━━━━━━━━━━━━━━━━\u001b[0m\u001b[37m\u001b[0m \u001b[1m0s\u001b[0m 245ms/step\n",
      "Review:This movie was fantastic! The acting was great and the plot was thrilling\n",
      "Review:Positive\n",
      "Review:0.7718695998191833\n"
     ]
    }
   ],
   "source": [
    "example_review = 'This movie was fantastic! The acting was great and the plot was thrilling'\n",
    "\n",
    "sentiment_analysis, score = predict_sentiment(example_review)\n",
    "\n",
    "print(f'Review:{example_review}')\n",
    "print(f'Review:{sentiment_analysis}')\n",
    "print(f'Review:{score}')"
   ]
  },
  {
   "cell_type": "code",
   "execution_count": null,
   "metadata": {},
   "outputs": [],
   "source": []
  }
 ],
 "metadata": {
  "kernelspec": {
   "display_name": "Python 3",
   "language": "python",
   "name": "python3"
  },
  "language_info": {
   "codemirror_mode": {
    "name": "ipython",
    "version": 3
   },
   "file_extension": ".py",
   "mimetype": "text/x-python",
   "name": "python",
   "nbconvert_exporter": "python",
   "pygments_lexer": "ipython3",
   "version": "3.11.0"
  }
 },
 "nbformat": 4,
 "nbformat_minor": 2
}
